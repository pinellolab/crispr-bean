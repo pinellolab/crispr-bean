{
 "cells": [
  {
   "cell_type": "markdown",
   "metadata": {},
   "source": [
    "# ReporterScreen sample / guide quality report"
   ]
  },
  {
   "cell_type": "markdown",
   "metadata": {},
   "source": [
    "Examine the quality of the guide and samples and masks the low-quality guides and samples."
   ]
  },
  {
   "cell_type": "code",
   "execution_count": null,
   "metadata": {},
   "outputs": [],
   "source": [
    "import numpy as np\n",
    "import matplotlib.pyplot as plt\n",
    "from matplotlib import colors\n",
    "import matplotlib.cm\n",
    "import perturb_tools as pt\n",
    "import bean as be\n",
    "from bean.qc.utils import fill_in_missing_samples\n",
    "\n",
    "plt.style.use(\"default\")"
   ]
  },
  {
   "cell_type": "code",
   "execution_count": null,
   "metadata": {
    "tags": [
     "parameters"
    ]
   },
   "outputs": [],
   "source": [
    "exp_id = \"LDLRCDS\"\n",
    "save_format = \"png\"\n",
    "bdata_path = \"../results/mapped/LDLRCDS/bean_count_LDLRCDS_combined.h5ad\"\n",
    "out_bdata_path = \"../results/mapped/LDLRCDS/bean_count_LDLRCDS_masked.h5ad\"\n",
    "rel_pos_is_reporter=False\n",
    "edit_quantification_start_pos = 2\n",
    "edit_quantification_end_pos = 7\n",
    "target_pos_col = \"target_pos\"\n",
    "count_correlation_thres = 0.7\n",
    "edit_rate_thres = 0.1\n",
    "posctrl_col = \"group\"\n",
    "posctrl_val = \"PosCtrl\"\n",
    "lfc_thres = -0.1\n",
    "replicate_label = \"replicate\"\n",
    "condition_label = \"condition\"\n",
    "comp_cond1 = \"top\"\n",
    "comp_cond2 = \"bot\"\n",
    "ctrl_cond = \"bulk\"\n",
    "recalculate_edits = True\n",
    "tiling = None\n",
    "base_edit_data = True\n",
    "remove_bad_replicates = False\n",
    "reporter_length = 32\n",
    "reporter_right_flank_length = 6"
   ]
  },
  {
   "cell_type": "code",
   "execution_count": null,
   "metadata": {},
   "outputs": [],
   "source": [
    "bdata = be.read_h5ad(bdata_path)"
   ]
  },
  {
   "cell_type": "code",
   "execution_count": null,
   "metadata": {},
   "outputs": [],
   "source": [
    "if tiling is not None:\n",
    "    bdata.uns['tiling'] = tiling\n",
    "elif 'tiling' in bdata.uns:\n",
    "    tiling = bdata.uns['tiling']\n",
    "else:\n",
    "    raise ValueError(\"Ambiguous assignment if the screen is a tiling screen. Provide `--tiling=True` or `tiling=False`.\")\n",
    "if \"target_base_change\" in bdata.uns and \"target_base_changes\" not in bdata.uns:\n",
    "    bdata.uns[\"target_base_changes\"] = bdata.uns[\"target_base_change\"]\n",
    "bdata.uns[\"reporter_length\"] = reporter_length\n",
    "bdata.uns[\"reporter_right_flank_length\"] = reporter_right_flank_length\n",
    "if posctrl_col:\n",
    "    bdata.guides[posctrl_col] = bdata.guides[posctrl_col].astype(str)\n",
    "    if posctrl_col not in bdata.guides.columns:\n",
    "        raise ValueError(f\"--posctrl-col argument '{posctrl_col}' is not present in the input ReporterScreen.guides.columns {bdata.guides.columns}. If you do not want to use positive control gRNA annotation for LFC calculation, feed --posctrl-col='' instead.\")\n",
    "    if posctrl_val not in bdata.guides[posctrl_col].tolist():\n",
    "        raise ValueError(f\"--posctrl-val argument '{posctrl_val}' is not present in the input ReporterScreen.guides[{posctrl_col}]: {bdata.guides[posctrl_col].value_counts()}. Please check your input. If you do not want to use positive control gRNA annotation for LFC calculation, feed --posctrl-col='' instead.\")"
   ]
  },
  {
   "cell_type": "code",
   "execution_count": null,
   "metadata": {},
   "outputs": [],
   "source": [
    "if not isinstance(replicate_label, str):\n",
    "    bdata.uns[\"sample_covariates\"] = replicate_label[1:]\n",
    "bdata.samples[\"replicate\"] = bdata.samples[replicate_label] = bdata.samples[replicate_label].astype(str)\n",
    "bdata.samples[\"condition\"] = bdata.samples[condition_label]"
   ]
  },
  {
   "cell_type": "markdown",
   "metadata": {},
   "source": [
    "Add dummy samples if not paired"
   ]
  },
  {
   "cell_type": "code",
   "execution_count": null,
   "metadata": {},
   "outputs": [],
   "source": [
    "bdata = fill_in_missing_samples(bdata, condition_label, replicate_label)"
   ]
  },
  {
   "cell_type": "code",
   "execution_count": null,
   "metadata": {},
   "outputs": [],
   "source": [
    "bdata.samples"
   ]
  },
  {
   "cell_type": "code",
   "execution_count": null,
   "metadata": {},
   "outputs": [],
   "source": [
    "for qc_col in [\"gini_X\", \"median_corr_X\", f\"median_lfc_corr.{comp_cond1}_{comp_cond2}\",\"mean_editing_rate\", \"mask\"]:\n",
    "    if qc_col in bdata.samples:\n",
    "        del bdata.samples[qc_col]\n",
    "n_cols_samples = len(bdata.samples.columns)"
   ]
  },
  {
   "cell_type": "code",
   "execution_count": null,
   "metadata": {},
   "outputs": [],
   "source": [
    "bdata.guides"
   ]
  },
  {
   "cell_type": "markdown",
   "metadata": {},
   "source": [
    "Annotate unannotated samples & log-normalize guides"
   ]
  },
  {
   "cell_type": "code",
   "execution_count": null,
   "metadata": {},
   "outputs": [],
   "source": [
    "#bdata.samples[[replicate_label, condition_label]] = bdata.samples.index.to_series().str.split(\"_\", expand=True)"
   ]
  },
  {
   "cell_type": "code",
   "execution_count": null,
   "metadata": {},
   "outputs": [],
   "source": [
    "bdata.log_norm()"
   ]
  },
  {
   "cell_type": "markdown",
   "metadata": {},
   "source": [
    "## Sample quality"
   ]
  },
  {
   "cell_type": "markdown",
   "metadata": {},
   "source": [
    "### Visualize quality metrics"
   ]
  },
  {
   "cell_type": "markdown",
   "metadata": {},
   "source": [
    "#### 1. Guide coverage"
   ]
  },
  {
   "cell_type": "code",
   "execution_count": null,
   "metadata": {},
   "outputs": [],
   "source": [
    "pt.qc.plot_guide_coverage(bdata, figsize=(6,4))\n"
   ]
  },
  {
   "cell_type": "code",
   "execution_count": null,
   "metadata": {},
   "outputs": [],
   "source": [
    "plt.style.use('default')\n",
    "pt.qc.plot_X_gini(bdata)\n",
    "plt.savefig(f\"{exp_id}_gini.{save_format}\")"
   ]
  },
  {
   "cell_type": "markdown",
   "metadata": {},
   "source": [
    "#### 2. Guide abundance correlation"
   ]
  },
  {
   "cell_type": "code",
   "execution_count": null,
   "metadata": {},
   "outputs": [],
   "source": [
    "pt.qc.plot_correlation(bdata, \"Spearman\")"
   ]
  },
  {
   "cell_type": "markdown",
   "metadata": {},
   "source": [
    "#### 3. LFC correlation of positive controls"
   ]
  },
  {
   "cell_type": "code",
   "execution_count": null,
   "metadata": {},
   "outputs": [],
   "source": [
    "selected_guides = bdata.guides[posctrl_col] == posctrl_val if posctrl_col else ~bdata.guides.index.isnull()\n",
    "print(f\"Calculating LFC correlation of {sum(selected_guides)} {'positive control' if posctrl_col else 'all'} guides.\")"
   ]
  },
  {
   "cell_type": "code",
   "execution_count": null,
   "metadata": {},
   "outputs": [],
   "source": [
    "try:\n",
    "    ax = pt.qc.plot_lfc_correlation(\n",
    "        bdata,\n",
    "        selected_guides,\n",
    "        method=\"Spearman\",\n",
    "        cond1=comp_cond1,\n",
    "        cond2=comp_cond2,\n",
    "        rep_col=replicate_label,\n",
    "        compare_col=condition_label,\n",
    "        figsize=(10, 10),\n",
    "    )\n",
    "except ValueError as e:\n",
    "    if \"rep_col\" in str(e):\n",
    "        raise ValueError(f\"Column `{replicate_label}` fed in with `--replicate-col {replicate_label}` does not exist in the input .h5ad file. Please check your input.\") from e\n",
    "    elif \"compare_col\" in str(e):\n",
    "        raise ValueError(f\"Column `{condition_label}` fed in with `--condition-col {condition_label}` does not exist in the input .h5ad file. Please check your input.\") from e\n",
    "    elif \"cond1\" in str(e):\n",
    "        raise ValueError(f\"Samples with `{condition_label}` value of `{comp_cond1}` or `{comp_cond2}` does not exist. Check your input argument fed in with `--lfc-conds `{comp_cond1},{comp_cond2}`.\") from e\n",
    "    else:\n",
    "        raise e\n",
    "ax.set_title(\"top/bot LFC correlation, Spearman\")\n",
    "plt.yticks(rotation=0)\n",
    "plt.xticks(rotation=90)\n",
    "plt.show()"
   ]
  },
  {
   "cell_type": "code",
   "execution_count": null,
   "metadata": {},
   "outputs": [],
   "source": []
  },
  {
   "cell_type": "markdown",
   "metadata": {},
   "source": [
    "#### 4. Guide editing rates"
   ]
  },
  {
   "cell_type": "code",
   "execution_count": null,
   "metadata": {},
   "outputs": [],
   "source": [
    "if \"target_base_changes\" not in bdata.uns or not base_edit_data:\n",
    "    bdata.uns[\"target_base_changes\"] = \"\"\n",
    "    base_edit_data = False\n",
    "    print(\"Not a base editing data or target base change not provided. Passing editing-related QC\")\n",
    "    edit_rate_threshold = -0.1\n",
    "elif recalculate_edits or \"edits\" not in bdata.layers.keys() or bdata.layers['edits'].max() == 0:\n",
    "    if 'allele_counts' in bdata.uns.keys():\n",
    "        bdata.uns['allele_counts'] = bdata.uns['allele_counts'].loc[bdata.uns['allele_counts'].allele.map(str) != \"\"]\n",
    "        bdata.get_edit_from_allele()\n",
    "        bdata.get_edit_mat_from_uns(\n",
    "            rel_pos_start=edit_quantification_start_pos, \n",
    "            target_pos_col=target_pos_col,\n",
    "            rel_pos_end=edit_quantification_end_pos, \n",
    "            rel_pos_is_reporter=rel_pos_is_reporter\n",
    "        )"
   ]
  },
  {
   "cell_type": "markdown",
   "metadata": {},
   "source": [
    "#### Editing rate"
   ]
  },
  {
   "cell_type": "code",
   "execution_count": null,
   "metadata": {},
   "outputs": [],
   "source": [
    "if \"target_base_changes\" not in bdata.uns or not base_edit_data:\n",
    "    print(\n",
    "        \"Not a base editing data or target base change not provided. Passing editing-related QC\"\n",
    "    )\n",
    "elif \"edits\" in bdata.layers.keys():\n",
    "    bdata.get_guide_edit_rate(\n",
    "        editable_base_start=edit_quantification_start_pos,\n",
    "        editable_base_end=edit_quantification_end_pos,\n",
    "        condition_col=condition_label,\n",
    "        unsorted_condition_label=ctrl_cond,\n",
    "    )\n",
    "    be.qc.plot_guide_edit_rates(bdata)"
   ]
  },
  {
   "cell_type": "markdown",
   "metadata": {},
   "source": [
    "#### R1-R2 recombination"
   ]
  },
  {
   "cell_type": "code",
   "execution_count": null,
   "metadata": {},
   "outputs": [],
   "source": [
    "if \"target_base_changes\" not in bdata.uns or not base_edit_data:\n",
    "    print(\n",
    "        \"Not a base editing data or target base change not provided. Passing editing-related QC\"\n",
    "    )\n",
    "elif \"edits\" in bdata.layers.keys():\n",
    "    plt.hist(\n",
    "        1-np.nanmean(\n",
    "            bdata[:, bdata.samples.condition == ctrl_cond].layers[\"X_bcmatch\"]\n",
    "            / bdata[:, bdata.samples.condition == ctrl_cond].X\n",
    "        , axis=1)\n",
    "    )\n",
    "    plt.xlabel(\"Recombination rate\")\n",
    "    plt.ylabel(\"Frequency\")"
   ]
  },
  {
   "cell_type": "markdown",
   "metadata": {},
   "source": [
    "### 5. Variant coverage"
   ]
  },
  {
   "cell_type": "code",
   "execution_count": null,
   "metadata": {},
   "outputs": [],
   "source": [
    "if not tiling:\n",
    "    n_guides = bdata.guides.groupby(\"target\").size()\n",
    "    int_bins = np.arange(min(0.5, n_guides.min() - 0.5), n_guides.max() + 0.5, 1)\n",
    "    plt.hist(n_guides, bins=int_bins)\n",
    "    plt.xticks(np.arange(n_guides.min() - 1, n_guides.max() + 1, 1))\n",
    "    plt.title(\"# Guides per target\")"
   ]
  },
  {
   "cell_type": "code",
   "execution_count": null,
   "metadata": {},
   "outputs": [],
   "source": [
    "if \"target_base_changes\" not in bdata.uns or not base_edit_data:\n",
    "    print(\n",
    "        \"Not a base editing data or target base change not provided. Passing editing-related QC\"\n",
    "    )\n",
    "elif not tiling:\n",
    "    total_edits = bdata.guides.groupby(\"target\")[\"edit_rate\"].sum()\n",
    "    plt.hist(n_guides)\n",
    "    plt.title(\"Total edit rates per target\")"
   ]
  },
  {
   "cell_type": "markdown",
   "metadata": {},
   "source": [
    "### Mask low-quality samples"
   ]
  },
  {
   "cell_type": "code",
   "execution_count": null,
   "metadata": {
    "scrolled": true
   },
   "outputs": [],
   "source": [
    "bdata.samples.style.background_gradient(cmap=\"coolwarm_r\")"
   ]
  },
  {
   "cell_type": "markdown",
   "metadata": {},
   "source": [
    "Assign sample mask to mask low-quality samples."
   ]
  },
  {
   "cell_type": "code",
   "execution_count": null,
   "metadata": {},
   "outputs": [],
   "source": [
    "mdata = bdata.samples.copy()\n",
    "# Data has positive control\n",
    "for col in mdata.columns.tolist():\n",
    "    mdata[col]=1.0\n",
    "\n",
    "mdata.loc[\n",
    "    bdata.samples.median_corr_X.isnull() | (bdata.samples.median_corr_X < count_correlation_thres),\n",
    "    \"median_corr_X\",\n",
    "] = 0.0\n",
    "if \"mean_editing_rate\" in bdata.samples.columns.tolist():\n",
    "    mdata.loc[bdata.samples.mean_editing_rate < edit_rate_thres, \"mean_editing_rate\"] = 0\n",
    "\n",
    "mdata.loc[\n",
    "    bdata.samples[f\"median_lfc_corr.{comp_cond1}_{comp_cond2}\"] < lfc_thres,\n",
    "    f\"median_lfc_corr.{comp_cond1}_{comp_cond2}\",\n",
    "] = 0.0\n",
    "if posctrl_col:\n",
    "    print(\"filter with posctrl LFC\")\n",
    "    mdata.loc[\n",
    "        bdata.samples[f\"median_lfc_corr.{comp_cond1}_{comp_cond2}\"].isnull(),\n",
    "        f\"median_lfc_corr.{comp_cond1}_{comp_cond2}\",\n",
    "    ] = 0.0\n"
   ]
  },
  {
   "cell_type": "code",
   "execution_count": null,
   "metadata": {},
   "outputs": [],
   "source": [
    "def b_g(s, cmap='coolwarm_r', low=0, high=1):\n",
    "    a = mdata.loc[:,s.name].copy()\n",
    "    if s.name not in mdata.columns.tolist()[n_cols_samples:]:\n",
    "        a[:] = 1.0\n",
    "    # rng = a.max() - a.min()\n",
    "    # norm = colors.Normalize(a.min() - (rng * low),\n",
    "    #                     a.max() + (rng * high))\n",
    "    # normed = norm(a.values)\n",
    "    c = [colors.rgb2hex(x) for x in matplotlib.cm.get_cmap(cmap)(a.values)]\n",
    "    return ['background-color: %s' % color for color in c]\n",
    "print(\"Failing QC is shown as red:\")\n",
    "bdata.samples.style.apply(b_g)"
   ]
  },
  {
   "cell_type": "code",
   "execution_count": null,
   "metadata": {},
   "outputs": [],
   "source": [
    "# leave replicate with more than 1 sorting bin data\n",
    "print(mdata)\n",
    "print(n_cols_samples)\n",
    "\n",
    "bdata.samples[\"mask\"] = mdata.iloc[:,n_cols_samples:].astype(int).all(axis=1).astype(int).tolist()\n",
    "if remove_bad_replicates:\n",
    "    rep_n_samples = bdata.samples.groupby(replicate_label)[\"mask\"].sum()\n",
    "    print(rep_n_samples)\n",
    "    rep_has_too_small_sample = rep_n_samples.loc[rep_n_samples < 2].index.tolist()\n",
    "    print(\n",
    "        f\"Excluding reps {rep_has_too_small_sample} that has less than 2 samples per replicate.\"\n",
    "    )\n",
    "    if isinstance(replicate_label, str):\n",
    "        samples_include = ~bdata.samples[replicate_label].isin(\n",
    "            rep_has_too_small_sample\n",
    "        )\n",
    "    else:\n",
    "        bdata.samples[\"_rc\"] = bdata.samples[\n",
    "            replicate_label\n",
    "        ].values.tolist()\n",
    "        samples_include = ~bdata.samples[\"_rc\"].isin(rep_has_too_small_sample)\n",
    "        bdata.samples.pop(\"_rc\")\n",
    "    bdata_filtered = bdata[:, samples_include]\n",
    "    if isinstance(replicate_label, str) and len(bdata_filtered.samples[replicate_label].unique()) <= 1 or isinstance(replicate_label, list) and len(bdata_filtered.samples[replicate_label].drop_duplicates() <= 1): \n",
    "        raise ValueError(\"Too small number of replicate left after QC. Check the input data or adjust the QC metric thresholds.\")\n",
    "else:\n",
    "    bdata_filtered = bdata"
   ]
  },
  {
   "cell_type": "code",
   "execution_count": null,
   "metadata": {
    "scrolled": true
   },
   "outputs": [],
   "source": [
    "bdata_filtered.samples.style.background_gradient(cmap=\"coolwarm_r\")"
   ]
  },
  {
   "cell_type": "markdown",
   "metadata": {},
   "source": [
    "## Identify outlier guides"
   ]
  },
  {
   "cell_type": "code",
   "execution_count": null,
   "metadata": {},
   "outputs": [],
   "source": [
    "outlier_guides, mask = be.qc.get_outlier_guides_and_mask(bdata_filtered, condit_col = condition_label, replicate_col = replicate_label)"
   ]
  },
  {
   "cell_type": "code",
   "execution_count": null,
   "metadata": {},
   "outputs": [],
   "source": [
    "outlier_guides\n"
   ]
  },
  {
   "cell_type": "code",
   "execution_count": null,
   "metadata": {},
   "outputs": [],
   "source": [
    "outlier_guides_n_samples = outlier_guides['name'].value_counts()\n",
    "guides_to_exclude = outlier_guides_n_samples.loc[outlier_guides_n_samples > 2].index\n",
    "guides_to_exclude"
   ]
  },
  {
   "cell_type": "code",
   "execution_count": null,
   "metadata": {},
   "outputs": [],
   "source": [
    "bdata_filtered.uns['repguide_mask'] = mask"
   ]
  },
  {
   "cell_type": "code",
   "execution_count": null,
   "metadata": {},
   "outputs": [],
   "source": [
    "bdata_filtered = bdata_filtered[~bdata_filtered.guides.index.isin(guides_to_exclude),:]"
   ]
  },
  {
   "cell_type": "code",
   "execution_count": null,
   "metadata": {},
   "outputs": [],
   "source": [
    "bdata_filtered"
   ]
  },
  {
   "cell_type": "code",
   "execution_count": null,
   "metadata": {},
   "outputs": [],
   "source": [
    "bdata_filtered.uns['repguide_mask'].shape"
   ]
  },
  {
   "cell_type": "code",
   "execution_count": null,
   "metadata": {},
   "outputs": [],
   "source": [
    "bdata_filtered.write(out_bdata_path)"
   ]
  },
  {
   "cell_type": "code",
   "execution_count": null,
   "metadata": {},
   "outputs": [],
   "source": []
  }
 ],
 "metadata": {
  "kernelspec": {
   "display_name": "Python (anbe_py38)",
   "language": "python",
   "name": "myenv"
  },
  "language_info": {
   "codemirror_mode": {
    "name": "ipython",
    "version": 3
   },
   "file_extension": ".py",
   "mimetype": "text/x-python",
   "name": "python",
   "nbconvert_exporter": "python",
   "pygments_lexer": "ipython3",
   "version": "3.8.12"
  },
  "vscode": {
   "interpreter": {
    "hash": "f896b923b6c52da1e67f7b045b4079be8e0e80c01063f180eed3663f6a063892"
   }
  }
 },
 "nbformat": 4,
 "nbformat_minor": 2
}
